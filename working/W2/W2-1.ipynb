{
 "cells": [
  {
   "cell_type": "code",
   "execution_count": 2,
   "metadata": {},
   "outputs": [
    {
     "name": "stdout",
     "output_type": "stream",
     "text": [
      "0.6579\n",
      "0.3421\n",
      "0.504\n"
     ]
    }
   ],
   "source": [
    "#basic exercise of 3 doors 1 opened\n",
    "import numpy as np\n",
    "\n",
    "c1_score = 0\n",
    "c2_score = 0\n",
    "c3_score = 0\n",
    "\n",
    "n = 3       #number of doors\n",
    "\n",
    "tries = 10000\n",
    "for i in range(tries):\n",
    "    door = np.random.randint(0, n)\n",
    "\n",
    "    c1 = np.random.randint(0, n)    #always switch\n",
    "    c2 = c1                         #always keep\n",
    "\n",
    "    doors = np.arange(0, n)     #initialize doors\n",
    "\n",
    "    wrong_doors = np.delete(doors, door)    #2 wrong doors, needed to choose which one not to open\n",
    "\n",
    "    unchosen_doors = np.delete(doors, c1)   #unchosen doors, nedeed for c1 to always switch\n",
    "\n",
    "    possible_doors = np.delete(wrong_doors, np.where(wrong_doors == c1))    #doors that can be opened, can be 1 or 2 doors\n",
    "\n",
    "    opened_door = np.random.choice(possible_doors)      #open a random door from the possible ones\n",
    "\n",
    "    unopened_doors = np.delete(doors, np.where(doors == opened_door))      #needed for c3 which is random\n",
    "    \n",
    "    c1_door = np.delete(unchosen_doors, np.where(unchosen_doors == opened_door))\n",
    "    c1 = c1_door[0]\n",
    "\n",
    "    c3 = np.random.choice(unopened_doors)\n",
    "\n",
    "    if c1 == door: c1_score = c1_score + 1\n",
    "    if c2 == door: c2_score = c2_score + 1\n",
    "    if c3 == door: c3_score = c3_score + 1\n",
    "\n",
    "\n",
    "\n",
    "c1_winrate = c1_score/tries\n",
    "c2_winrate = c2_score/tries\n",
    "c3_winrate = c3_score/tries\n",
    "\n",
    "print(c1_winrate)\n",
    "print(c2_winrate)\n",
    "print(c3_winrate)\n",
    "\n",
    "\n"
   ]
  }
 ],
 "metadata": {
  "kernelspec": {
   "display_name": "Python 3",
   "language": "python",
   "name": "python3"
  },
  "language_info": {
   "codemirror_mode": {
    "name": "ipython",
    "version": 3
   },
   "file_extension": ".py",
   "mimetype": "text/x-python",
   "name": "python",
   "nbconvert_exporter": "python",
   "pygments_lexer": "ipython3",
   "version": "3.12.2"
  }
 },
 "nbformat": 4,
 "nbformat_minor": 2
}
