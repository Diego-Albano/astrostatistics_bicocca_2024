{
 "cells": [
  {
   "cell_type": "code",
   "execution_count": 161,
   "metadata": {},
   "outputs": [
    {
     "name": "stdout",
     "output_type": "stream",
     "text": [
      "[[0 1 2 3]\n",
      " [0 1 0 0]\n",
      " [0 0 1 0]\n",
      " [0 0 0 1]]\n",
      "3 1\n"
     ]
    }
   ],
   "source": [
    "#don't care anymore about random character, variable number of opened doors\n",
    "import numpy as np\n",
    "import matplotlib.pyplot as plt\n",
    "import random\n",
    "\n",
    "\n",
    "number_of_doors = 4     #n\n",
    "number_of_opened_doors = 1          #m\n",
    "number_of_closed_doors = 3 #number_of_doors - number_of_opened_doors\n",
    "\n",
    "doors = np.tile(np.arange(number_of_doors), (4, 1))     #instead of storing the open/close goat/win chosen/unchosen information in different arrays, we store it as value in a matrix\n",
    "\n",
    "for i in range(number_of_doors):\n",
    "    doors[1][i] = \"0\"           #0 = goat\n",
    "    doors[2][i] = \"1\"           #0 = closed, I start with open because it's easier to close the doors\n",
    "    doors[3][i] = \"0\"           #0 = unchosen\n",
    "\n",
    "winning_door = np.random.randint(0, number_of_doors)\n",
    "doors[1][winning_door] = 1          #set the winning door\n",
    "doors[2][winning_door] = 0          #close the winning door\n",
    "\n",
    "chosen_door = np.random.randint(0, number_of_doors)\n",
    "doors[3][chosen_door] = 1       #set the chosen door\n",
    "doors[2][chosen_door] = 0          #close the chosen door\n",
    "\n",
    "\n",
    "\n",
    "\n",
    "k=2     #records the number of closed doors\n",
    "if winning_door == chosen_door:\n",
    "    k = 1\n",
    "\n",
    "\n",
    "for i in range(number_of_doors):\n",
    "    if k == number_of_closed_doors:\n",
    "        break\n",
    "    if i == chosen_door or i == winning_door:        #don't want to count the already closed doors\n",
    "        continue \n",
    "       \n",
    "    doors[2][i] = 0\n",
    "    k = k + 1\n",
    "    \n",
    "\n",
    "print(doors)\n",
    "\n",
    "keeper = doors[0][chosen_door]\n",
    "doors[2][chosen_door] = 1       #open the door so that the switcher doesn't see it\n",
    "switcher = np.nonzero(doors[2] == 0)[0][np.random.randint(0,number_of_closed_doors-1)]    #select a random door from the closed ones (note that doors[2] == 0 returns TRUE when the door is closed)\n",
    "doors[2][chosen_door] = 0       #reclose the chosen door\n",
    "\n",
    "print(keeper, switcher)"
   ]
  }
 ],
 "metadata": {
  "kernelspec": {
   "display_name": "Python 3",
   "language": "python",
   "name": "python3"
  },
  "language_info": {
   "codemirror_mode": {
    "name": "ipython",
    "version": 3
   },
   "file_extension": ".py",
   "mimetype": "text/x-python",
   "name": "python",
   "nbconvert_exporter": "python",
   "pygments_lexer": "ipython3",
   "version": "3.12.2"
  }
 },
 "nbformat": 4,
 "nbformat_minor": 2
}
