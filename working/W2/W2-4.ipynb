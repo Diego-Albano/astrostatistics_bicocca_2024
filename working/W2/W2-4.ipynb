{
 "cells": [
  {
   "cell_type": "code",
   "execution_count": 39,
   "metadata": {},
   "outputs": [
    {
     "name": "stdout",
     "output_type": "stream",
     "text": [
      "3\n",
      "4\n",
      "5\n",
      "6\n",
      "7\n",
      "8\n",
      "9\n",
      "10\n"
     ]
    }
   ],
   "source": [
    "#W2-3 but with graph and big cycles\n",
    "import numpy as np\n",
    "import matplotlib.pyplot as plt\n",
    "import random\n",
    "\n",
    "\n",
    "number_of_doors = 10     #n>3\n",
    "tries = 100\n",
    "\n",
    "\n",
    "for p in range(3, number_of_doors + 1):     #start from 3 doors so 0, 1 and 2\n",
    "    print(p)\n",
    "    number_of_opened_doors = p - 2\n",
    "    \n",
    "    for j in range(1, number_of_opened_doors + 1):\n",
    "        switcher_score = 0\n",
    "        keeper_score = 0\n",
    "\n",
    "        for l in range(tries):\n",
    "\n",
    "            doors = np.tile(np.arange(p), (4, 1))     #instead of storing the open/close goat/win chosen/unchosen information in different arrays, we store it as value in a matrix\n",
    "\n",
    "            for i in range(p):\n",
    "                doors[1][i] = \"0\"           #0 = goat\n",
    "                doors[2][i] = \"1\"           #0 = closed, I start with open because it's easier to close the doors\n",
    "                doors[3][i] = \"0\"           #0 = unchosen\n",
    "\n",
    "    \n",
    "            number_of_closed_doors = p - j       #changes every time\n",
    "\n",
    "            winning_door = np.random.randint(0, p)\n",
    "            doors[1][winning_door] = 1          #set the winning door\n",
    "            doors[2][winning_door] = 0          #close the winning door\n",
    "\n",
    "            chosen_door = np.random.randint(0, p)\n",
    "            doors[3][chosen_door] = 1       #set the chosen door\n",
    "            doors[2][chosen_door] = 0          #close the chosen door\n",
    "\n",
    "            k=2     #records the number of closed doors\n",
    "            if winning_door == chosen_door:\n",
    "                k = 1\n",
    "\n",
    "\n",
    "            for i in range(p):\n",
    "                if k == number_of_closed_doors:\n",
    "                    break\n",
    "                if i == chosen_door or i == winning_door:        #don't want to count the already closed doors\n",
    "                    continue \n",
    "       \n",
    "                doors[2][i] = 0\n",
    "                k = k + 1\n",
    "\n",
    "        \n",
    "\n",
    "            keeper = doors[0][chosen_door]\n",
    "            doors[2][chosen_door] = 1       #open the door so that the switcher doesn't see it\n",
    "            switcher = np.nonzero(doors[2] == 0)[0][np.random.randint(0,number_of_closed_doors-1)]    #select a random door from the closed ones (note that doors[2] == 0 returns TRUE when the door is closed)\n",
    "            doors[2][chosen_door] = 0       #reclose the chosen door\n",
    "            \n",
    "            if keeper == winning_door:\n",
    "                keeper_score = keeper_score + 1\n",
    "\n",
    "            if switcher == winning_door:\n",
    "                switcher_score = switcher_score + 1\n",
    "\n",
    "        ratio = float(keeper_score/switcher_score)\n",
    "\n"
   ]
  }
 ],
 "metadata": {
  "kernelspec": {
   "display_name": "Python 3",
   "language": "python",
   "name": "python3"
  },
  "language_info": {
   "codemirror_mode": {
    "name": "ipython",
    "version": 3
   },
   "file_extension": ".py",
   "mimetype": "text/x-python",
   "name": "python",
   "nbconvert_exporter": "python",
   "pygments_lexer": "ipython3",
   "version": "3.12.2"
  }
 },
 "nbformat": 4,
 "nbformat_minor": 2
}
