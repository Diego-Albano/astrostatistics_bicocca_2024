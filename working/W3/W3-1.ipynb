{
 "cells": [
  {
   "cell_type": "code",
   "execution_count": 79,
   "metadata": {},
   "outputs": [
    {
     "name": "stdout",
     "output_type": "stream",
     "text": [
      "-1275.6001349989438\n"
     ]
    }
   ],
   "source": [
    "import numpy as np\n",
    "\n",
    "N = 1000000\n",
    "std = 5\n",
    "\n",
    "\n",
    "def fun(x):\n",
    "    return x**3* np.sqrt(2*np.pi*std**2) /2\n",
    "\n",
    "xi = 2*np.random.normal(0, std, N)\n",
    "\n",
    "integral = np.mean(fun(xi)) - 2*std**4\n",
    "\n",
    "print(integral)"
   ]
  }
 ],
 "metadata": {
  "kernelspec": {
   "display_name": "Python 3",
   "language": "python",
   "name": "python3"
  },
  "language_info": {
   "codemirror_mode": {
    "name": "ipython",
    "version": 3
   },
   "file_extension": ".py",
   "mimetype": "text/x-python",
   "name": "python",
   "nbconvert_exporter": "python",
   "pygments_lexer": "ipython3",
   "version": "3.12.2"
  }
 },
 "nbformat": 4,
 "nbformat_minor": 2
}
