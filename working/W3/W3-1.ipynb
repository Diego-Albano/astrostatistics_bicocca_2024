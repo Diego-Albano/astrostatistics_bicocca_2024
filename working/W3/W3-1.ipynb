{
 "cells": [
  {
   "cell_type": "code",
   "execution_count": 19,
   "metadata": {},
   "outputs": [
    {
     "name": "stdout",
     "output_type": "stream",
     "text": [
      "11978493.057167172 12500000 0.041720555426626206\n"
     ]
    }
   ],
   "source": [
    "import numpy as np\n",
    "import scipy.stats\n",
    "\n",
    "N = 10000\n",
    "std = 50\n",
    "\n",
    "\n",
    "gauss = scipy.stats.norm(loc=0, scale=std)\n",
    "xi = np.abs(gauss.rvs(N))\n",
    "\n",
    "I = std*(np.pi/2)**0.5 * np.mean(xi**3)\n",
    "knownresult= 2*std**4 \n",
    "\n",
    "print(I,knownresult, np.abs(I-knownresult)/knownresult)"
   ]
  }
 ],
 "metadata": {
  "kernelspec": {
   "display_name": "Python 3",
   "language": "python",
   "name": "python3"
  },
  "language_info": {
   "codemirror_mode": {
    "name": "ipython",
    "version": 3
   },
   "file_extension": ".py",
   "mimetype": "text/x-python",
   "name": "python",
   "nbconvert_exporter": "python",
   "pygments_lexer": "ipython3",
   "version": "3.12.2"
  }
 },
 "nbformat": 4,
 "nbformat_minor": 2
}
